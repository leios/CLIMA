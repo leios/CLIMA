{
 "cells": [
  {
   "outputs": [],
   "cell_type": "markdown",
   "source": [
    "# Example 001: Periodic Advection\n",
    "\n",
    "\n",
    "Key ideas of this tutorial:\n",
    "  - Setting up PDE\n",
    "  - Defining a numerical flux\n",
    "  - Defining finite element mesh\n",
    "  - Using the ODE solving framework\n",
    "  - Using VTK visualization\n",
    "\n",
    "## Introduction\n",
    "\n",
    "In this example we will solve the constant coefficient advection equation on a\n",
    "periodic domain; the domain is taken to be the unit square or cube depending on\n",
    "whether the problem is two- or three-dimensional.\n",
    "\n",
    "The partial differential equation we wish to solve is\n",
    "\n",
    "\\begin{equation}\n",
    " \\frac{\\partial q}{\\partial t} + \\nabla \\cdot (\\vec{u} q) = 0,\n",
    "\\end{equation}\n",
    "\n",
    "where $q$ is the advected scalar quantity and $\\vec{u}$ is the constant\n",
    "velocity field. The quantity $\\vec{u} q$ is more generally called the flux and\n",
    "denoted in the tutorial below as $\\boldsymbol{F}(q) = \\vec{u} q$.\n",
    "\n",
    "Below is a program interspersed with comments.\n",
    "\n",
    "## Commented Program"
   ],
   "metadata": {}
  },
  {
   "outputs": [],
   "cell_type": "markdown",
   "source": [
    "### Preliminaries\n",
    "Load in modules needed for solving the problem"
   ],
   "metadata": {}
  },
  {
   "outputs": [],
   "cell_type": "code",
   "source": [
    "using MPI\n",
    "using CLIMA.Topologies\n",
    "using CLIMA.Grids\n",
    "using CLIMA.DGBalanceLawDiscretizations\n",
    "using CLIMA.MPIStateArrays\n",
    "using CLIMA.LowStorageRungeKuttaMethod\n",
    "using CLIMA.ODESolvers\n",
    "using CLIMA.GenericCallbacks\n",
    "using CLIMA.Vtk\n",
    "using LinearAlgebra\n",
    "using Logging\n",
    "using Dates\n",
    "using Printf\n",
    "using StaticArrays"
   ],
   "metadata": {},
   "execution_count": 1
  },
  {
   "outputs": [],
   "cell_type": "markdown",
   "source": [
    "Start up MPI if this has not already been done"
   ],
   "metadata": {}
  },
  {
   "outputs": [],
   "cell_type": "code",
   "source": [
    "MPI.Initialized() || MPI.Init()"
   ],
   "metadata": {},
   "execution_count": 2
  },
  {
   "outputs": [],
   "cell_type": "markdown",
   "source": [
    "define the velocity field for advection"
   ],
   "metadata": {}
  },
  {
   "outputs": [
    {
     "output_type": "execute_result",
     "data": {
      "text/plain": "(1, 2, 3)"
     },
     "metadata": {},
     "execution_count": 3
    }
   ],
   "cell_type": "code",
   "source": [
    "const uvec = (1, 2, 3)"
   ],
   "metadata": {},
   "execution_count": 3
  },
  {
   "outputs": [],
   "cell_type": "markdown",
   "source": [
    "### Physical Flux"
   ],
   "metadata": {}
  },
  {
   "outputs": [
    {
     "output_type": "execute_result",
     "data": {
      "text/plain": "advectionflux! (generic function with 1 method)"
     },
     "metadata": {},
     "execution_count": 4
    }
   ],
   "cell_type": "code",
   "source": [
    "function advectionflux!(F, state, _...)\n",
    "  DFloat = eltype(state) # get the floating point type we are using\n",
    "  @inbounds begin\n",
    "    q = state[1]\n",
    "    F[:, 1] = SVector{3, DFloat}(uvec) * q\n",
    "  end\n",
    "end"
   ],
   "metadata": {},
   "execution_count": 4
  },
  {
   "outputs": [],
   "cell_type": "markdown",
   "source": [
    "### Numerical Flux\n",
    "In the discontinuous Galerkin method the continuity of the solution across\n",
    "element interfaces is imposed weakly through the use of a numerical flux. The\n",
    "numerical flux is a function that given the solution state on either side of\n",
    "an interface returns a unique value approximating $\\boldsymbol{F}\\cdot\n",
    "\\vec{n}$ on the interface:\n",
    "\\begin{equation}\n",
    "f^{*} = f^{*}(q^{-}, q^{+}; \\vec{n}).\n",
    "\\end{equation}\n",
    "We call the two sides of the interface the \"minus side\" and \"plus side\" hence\n",
    "the $\\pm$ superscripts in $q$ in the notation above; the choice of which\n",
    "element is on the minus side and plus side is arbitrary. Here $\\vec{n}$ is a\n",
    "unit normal to the interface and is typically taken to point from the minus\n",
    "side to the plus side. The numerical flux is required to be symmetric with\n",
    "respect to $q^{-}$ and $q^{+}$:\n",
    "\\begin{equation}\n",
    "f^{*}(q^{-}, q^{+}; \\vec{n}) = f^{*}(q^{+}, q^{-}; \\vec{n}).\n",
    "\\end{equation}\n",
    "and consistent with the physical flux in the sense that\n",
    "\\begin{equation}\n",
    "\\boldsymbol{F}(q) \\cdot \\vec{n} = f^{*}(q, q; \\vec{n}).\n",
    "\\end{equation}\n",
    "Taken together these two conditions also imply that\n",
    "\\begin{equation}\n",
    "f^{*}(q^{-}, q^{+}; \\vec{n}^{-}) = -f^{*}(q^{+}, q^{-}; \\vec{n}^{+}),\n",
    "\\end{equation}\n",
    "that is $f^{*}$ is skew-symmetry with respect to the unit normals $\\vec{n}^{+}\n",
    "= -\\vec{n}^{-}$.  The choice of numerical flux has important implications for\n",
    "the stability of the method. Though it is beyond the scope of these tutorials\n",
    "to dive into this in detail, often the \"best\" numerical fluxes are the ones\n",
    "that are constructed specifically for given set of equations by solving the\n",
    "Riemann problem; the Riemann problem is an initial value problem where the\n",
    "initial data are piecewise constant with a single discontinuity.\n",
    "\n",
    "In the CLIMA balance law solver the numerical flux function is a user-defined\n",
    "function that fills in an `MVector` for the numerical flux given two states,\n",
    "the \"viscous state\", a unit normal to the face, the simulation time, and a\n",
    "user-defined auxiliary state; the viscous and auxiliary states will be\n",
    "discussed in a subsequent examples. In the function below `F` is the numerical\n",
    "flux to fill, `nM` is the unit normal pointing away from the minus side and\n",
    "toward the plus side, `QM` and `QP` are `MVector`s of the solution state on\n",
    "the minus and plus sides of the interface, `viscM` and `viscP` are the viscous\n",
    "states on the minus and plus sides, `auxM` and `auxP` are the user-defined\n",
    "auxiliary state values on the minus and plus sides, and `t` is the simulation\n",
    "time.\n",
    "\n",
    "For linear advection the solution to the Riemann problem is trivial, since\n",
    "if $\\vec{n}^{-} \\cdot \\vec{u} ≥ 0$ the state $q$ is being advected from\n",
    "the minus side to the plus side otherwise the reverse occurs. Thus the upwind\n",
    "numerical flux for advection is\n",
    "\\begin{equation}\n",
    "f^{*}(q^{-}, q^{+}; \\vec{n}^{-}) =\n",
    "\\begin{cases}\n",
    "  \\vec{n}^{-}\\cdot\\vec{u} \\; q^{-}, &\\text{ if } \\vec{n} \\cdot \\vec{u} ≥ 0,\\\\\n",
    "  \\vec{n}^{-}\\cdot\\vec{u} \\; q^{+}, &\\text{ otherwise.}\n",
    "\\end{cases}\n",
    "\\end{equation}\n",
    "This is done in the following function"
   ],
   "metadata": {}
  },
  {
   "outputs": [
    {
     "output_type": "execute_result",
     "data": {
      "text/plain": "upwindflux! (generic function with 1 method)"
     },
     "metadata": {},
     "execution_count": 5
    }
   ],
   "cell_type": "code",
   "source": [
    "function upwindflux!(fs, nM, stateM, viscM, auxM, stateP, viscP, auxP, t)\n",
    "  DFloat = eltype(fs)\n",
    "  @inbounds begin\n",
    "    # determine the advection speed and direction\n",
    "    un = dot(nM, DFloat.(uvec))\n",
    "    qM = stateM[1]\n",
    "    qP = stateP[1]\n",
    "    # Determine which state is \"upwind\" of the minus side\n",
    "    fs[1] = un ≥ 0 ? un * qM : un * qP\n",
    "  end\n",
    "end"
   ],
   "metadata": {},
   "execution_count": 5
  },
  {
   "outputs": [],
   "cell_type": "markdown",
   "source": [
    "In later examples we will demonstrate how to use the Rusanov flux which is\n",
    "included in the `CLIMA.DGBalanceLawDiscretizations.NumericalFluxes` submodule.\n",
    "This is a more general-purpose flux which approximates the solution Riemann\n",
    "problem by using an average of the flux on either side of the interface with\n",
    "additional dissipation added based on the local wave speed."
   ],
   "metadata": {}
  },
  {
   "outputs": [],
   "cell_type": "markdown",
   "source": [
    "### Initial Condition\n",
    "In this example we take the initial condition to be\n",
    "\\begin{equation}\n",
    "q(\\vec{x}, t=0) = \\prod_{i=1}^{d} \\exp(\\sin(2\\pi x_{i})),\n",
    "\\end{equation}\n",
    "where $d$ is the dimensionality of the problem. To use this initial condition\n",
    "we need a function that given $\\vec{x}$ sets $q$.\n",
    "\n",
    "The initial condition is set by the solver through a function which takes $q$\n",
    "as an `MVector` to initialize based on the pointwise coordinate location\n",
    "`(x_1, x_2, x_3)`.\n",
    "\n",
    "Note: The initial condition will always be called as though the dimensionality\n",
    "of the problem is 3. For the domain used below `x_3 = 0` when the problem is\n",
    "actually two-dimensional; since when $x_3 = 0$ the function $\\exp(\\sin(2\\pi\n",
    "x_{3})) = 1$ we can safely assume the dimensionality is always $3$ in our\n",
    "implication of the initial condition."
   ],
   "metadata": {}
  },
  {
   "outputs": [
    {
     "output_type": "execute_result",
     "data": {
      "text/plain": "initialcondition! (generic function with 1 method)"
     },
     "metadata": {},
     "execution_count": 6
    }
   ],
   "cell_type": "code",
   "source": [
    "function initialcondition!(Q, x_1, x_2, x_3)\n",
    "  @inbounds Q[1] = exp(sin(2π * x_1)) * exp(sin(2π * x_2)) * exp(sin(2π * x_3))\n",
    "end"
   ],
   "metadata": {},
   "execution_count": 6
  },
  {
   "outputs": [],
   "cell_type": "markdown",
   "source": [
    "### Exact Solution\n",
    "For periodic constant-velocity advection the exact solution is trivial to\n",
    "compute. Assuming that $\\phi(x)$ is the periodically replicated initial\n",
    "condition, the analytic solution is\n",
    "\\begin{equation}\n",
    "q(\\vec{x}, t) = \\phi(\\vec{x} - \\vec{u} t).\n",
    "\\end{equation}\n",
    "This will be useful later since it will allow us to check our work by\n",
    "computing the error in our solution and estimating the convergence rate.\n",
    "\n",
    "For a general initial condition on the unit domain the following function can\n",
    "be used:"
   ],
   "metadata": {}
  },
  {
   "outputs": [
    {
     "output_type": "execute_result",
     "data": {
      "text/plain": "exactsolution! (generic function with 1 method)"
     },
     "metadata": {},
     "execution_count": 7
    }
   ],
   "cell_type": "code",
   "source": [
    "function exactsolution!(dim, Q, t, x_1, x_2, x_3)\n",
    "  @inbounds begin\n",
    "    DFloat = eltype(Q)\n",
    "\n",
    "    # trace back the point (x_1, x_2, x_3) in the velocity field and\n",
    "    # determine where in our \"original\" [0, L_1] X [0, L_2] X [0, L_3] domain\n",
    "    # this point is located\n",
    "    y_1 = mod(x_1 - DFloat(uvec[1]) * t, 1)\n",
    "    y_2 = mod(x_2 - DFloat(uvec[2]) * t, 1)\n",
    "\n",
    "    # if we are really just 2-D we do not want to change the x_3 coordinate\n",
    "    y_3 = dim == 3 ? mod(x_3 - DFloat(uvec[3]) * t, 1) : x_3\n",
    "\n",
    "    initialcondition!(Q, y_1, y_2, y_3)\n",
    "  end\n",
    "end"
   ],
   "metadata": {},
   "execution_count": 7
  },
  {
   "outputs": [],
   "cell_type": "markdown",
   "source": [
    "The input argument `dim` is the \"real\" dimensionality of the problem and is\n",
    "needed in case `uvec[3] != 0`."
   ],
   "metadata": {}
  },
  {
   "outputs": [],
   "cell_type": "markdown",
   "source": [
    "### Initialize the DG Method\n",
    "We are now at the point that we can initialize the structure for the DG\n",
    "method.  For convenience we define a function that initializes the DG method\n",
    "over a given MPI communicator `mpicomm`, for a given `polynomialorder`, using\n",
    "`dim` dimensions. The mesh used will be `Ne` x `Ne` elements when `dim == 2`\n",
    "and `Ne` x `Ne` x `Ne` elements when `dim == 3`. The floating point type of\n",
    "the computation is `DFloat` and whether the CPU or GPU is used is determined\n",
    "by `ArrayType`; `ArrayType === Array` is for the CPU and `ArrayType ===\n",
    "CuArray` is for NVIDIA GPUs.\n",
    "\n",
    "Note: This whole code chunk is in a function block"
   ],
   "metadata": {}
  },
  {
   "outputs": [
    {
     "output_type": "execute_result",
     "data": {
      "text/plain": "setupDG (generic function with 3 methods)"
     },
     "metadata": {},
     "execution_count": 8
    }
   ],
   "cell_type": "code",
   "source": [
    "function setupDG(mpicomm, dim, Ne, polynomialorder, DFloat=Float64,\n",
    "                 ArrayType=Array)\n",
    "\n",
    "  @assert ArrayType === Array\n",
    "  # We will use the `BrickTopology` from `CLIMA.Topologies` to define the mesh.\n",
    "  # The \"topology\" in CLIMA is the element connectivity information (e.g.,\n",
    "  # neighbouring elements and interface data) along with coordinate locations\n",
    "  # for corners of the elements. The `BrickTopology` creates a regular mesh of a\n",
    "  # rectangular or regular hexahedral domain. This is done by specifying the\n",
    "  # coordinate points of the element corners along each dimension. Here, we want\n",
    "  # to mesh the unit square or cube with `Ne` elements in each dimension, thus\n",
    "  # we specify the following `Tuple` of `range`s:\n",
    "  brickrange = (range(DFloat(0); length=Ne+1, stop=1), # x_1 corner locations\n",
    "                range(DFloat(0); length=Ne+1, stop=1), # x_2 corner locations\n",
    "                range(DFloat(0); length=Ne+1, stop=1)) # x_3 corner locations\n",
    "  # these coordinates will be combined in a tensor product fashion to define the\n",
    "  # element corners.\n",
    "  #\n",
    "  # By default the `BrickTopology` is not periodic, so we need to define a\n",
    "  # `Tuple` of boolean defining which dimensions are periodic.\n",
    "  periodicity = (true, true, true)\n",
    "  # Note: We have defined both the `brickrange` and `periodicity` as though we\n",
    "  # are working in three-dimensions, and in when in two-dimensions we will\n",
    "  # discard the third element of the `Tuple`; this could also be done from the\n",
    "  # start by using the `ntuple` function.\n",
    "  # Using `brickrange` and `periodicity` we can now initialize the topology\n",
    "  # using the `BrickTopology` constructor. This will both create the topology as\n",
    "  # well as do the partitioning of the elements across the MPI ranks available\n",
    "  # in the mpi communicator `mpicomm`\n",
    "  topology = BrickTopology(mpicomm, brickrange[1:dim];\n",
    "                           periodicity=periodicity[1:dim])\n",
    "  # The topology only has element connectivity and corner information, thus we\n",
    "  # still need to create a grid (or mesh) of degrees of freedom. In CLIMA the\n",
    "  # so-called discontinuous spectral element grid is used (aka tensor-product\n",
    "  # quadrilateral and hexahedral elements with Legendre-Gauss-Lobatto\n",
    "  # interpolation and quadrature weights). Given a topology and polynomial order\n",
    "  # we can create the grid of degrees of free using\n",
    "  grid = DiscontinuousSpectralElementGrid(topology; polynomialorder =\n",
    "                                          polynomialorder, FloatType = DFloat,\n",
    "                                          DeviceArray = ArrayType,)\n",
    "  # Note: This constructor also takes in a `FloatType` which specifies the\n",
    "  # floating point type to be used (e.g., for the coordinate points and geometry\n",
    "  # metric terms). The argument `ArrayType` is used to determine the compute\n",
    "  # device to use (i.e., `Array` will signify the CPU is being used and\n",
    "  # `CuArray` will signal that an NVIDIA GPU is being used).\n",
    "  # We can now define the discretization from the `grid` using the physical flux\n",
    "  # `advectionflux!` and numerical flux `upwindflux!` defined above; we only\n",
    "  # have a single state variable $q$ hence `length_state_vector = 1`\n",
    "  spatialdiscretization = DGBalanceLaw(grid = grid, length_state_vector = 1,\n",
    "                                       flux! = advectionflux!,\n",
    "                                       numerical_flux! = upwindflux!)\n",
    "  # (end of function)\n",
    "end"
   ],
   "metadata": {},
   "execution_count": 8
  },
  {
   "outputs": [],
   "cell_type": "markdown",
   "source": [
    "### Initializing and run the DG method\n",
    "Note: This whole code chunk is in a `let` block"
   ],
   "metadata": {}
  },
  {
   "outputs": [
    {
     "name": "stdout",
     "output_type": "stream",
     "text": [
      "┌ Info: Run with\n",
      "│ dim              = 2\n",
      "│ Ne               = 20\n",
      "│ polynomial order = 4\n",
      "└ error            = 3.219188e-06\n"
     ]
    }
   ],
   "cell_type": "code",
   "source": [
    "let\n",
    "  # We will just use the whole MPI communicator\n",
    "  mpicomm = MPI.COMM_WORLD\n",
    "  # Since this is an MPI enabled code, we use the Julia logging functionality to\n",
    "  # ensure that only one MPI rank prints to the screen. Namely, MPI rank 0 does\n",
    "  # all the logging and all other ranks dump their ouput to `devnull`.\n",
    "  mpi_logger = ConsoleLogger(MPI.Comm_rank(mpicomm) == 0 ? stderr : devnull)\n",
    "  # Note: The `NullLogger` should not be used because if any MPI functions are\n",
    "  # called in a logging block deadlock will occur since `NullLogger` code is\n",
    "  # not executed.\n",
    "  # Dimensionality to run\n",
    "  dim = 2\n",
    "  # Mesh size along each dimension\n",
    "  Ne = 20\n",
    "  # order of polynomials to use\n",
    "  polynomialorder = 4\n",
    "  # Setup the DG discretization\n",
    "  spatialdiscretization = setupDG(mpicomm, dim, Ne, polynomialorder)\n",
    "  # Given the `spatialdiscretization` and the `initialcondition!` function we\n",
    "  # can create and initialize storage for the solution. This is an MPI-aware\n",
    "  # array\n",
    "  Q = MPIStateArray(spatialdiscretization, initialcondition!)\n",
    "  # A VTK file, which can be viewed in [ParaView](https://www.paraview.org/) or\n",
    "  # [VisIt](https://wci.llnl.gov/simulation/computer-codes/visit), can be\n",
    "  # generated with the following command (the last `Tuple` gives strings for the\n",
    "  # names of the state fields)\n",
    "  filename = @sprintf(\"initialcondition_mpirank%04d\", MPI.Comm_rank(mpicomm))\n",
    "  writevtk(filename, Q, spatialdiscretization,\n",
    "                                       (\"q\",))\n",
    "  # Note: Currently the `writevtk` function writes one file for each MPI rank,\n",
    "  # and the user is responsible for opening each of the files to \"stitch\"\n",
    "  # together the image.\n",
    "  # In order to run the simulation we need to use an ODE solver. In this example\n",
    "  # we will use a low storage Runge-Kutta method which can be initialized with a\n",
    "  # spatial discretization, solution vector (not stored but used to define\n",
    "  # needed auxiliary arrays), initial solution time, and a time step size; this\n",
    "  # particular Runge-Kutta method uses a fixed time step.\n",
    "  #\n",
    "  # Since we are using a regular mesh, with a constant wave speed, a \"CFL\"\n",
    "  # restriction for the mesh is\n",
    "  h = 1 / Ne                           # element size\n",
    "  CFL = h / maximum(abs.(uvec[1:dim])) # time to cross the element once\n",
    "  dt = CFL / polynomialorder^2         # DG time step scaling (for this\n",
    "                                       # particular RK scheme could go with a\n",
    "                                       # factor of ~2 larger time step)\n",
    "  lsrk = LSRK54CarpenterKennedy(spatialdiscretization, Q; dt = dt, t0 = 0)\n",
    "  # Here we run the ODE solver until the final time `timeend` using `Q` as the\n",
    "  # initial condition `Q`. The solution will be updated in place so that the\n",
    "  # final solution will also be stored in `Q`.\n",
    "  finaltime = 1.0\n",
    "  solve!(Q, lsrk; timeend = finaltime)\n",
    "  # The final solution can be visualized in a similar manner to the initial\n",
    "  # condition\n",
    "  filename = @sprintf(\"finalsolution_mpirank%04d\", MPI.Comm_rank(mpicomm))\n",
    "  writevtk(filename, Q, spatialdiscretization,\n",
    "                                       (\"q\",))\n",
    "  # Using the `finaltime` and `exactsolution!` we can calculate the exact\n",
    "  # solution\n",
    "  Qe = MPIStateArray(spatialdiscretization) do Qin, x, y, z\n",
    "    exactsolution!(dim, Qin, finaltime, x, y, z)\n",
    "  end\n",
    "  # and then compute the error by evaluating the Euclidean distance between the\n",
    "  # computed solution `Q` and the exact solution `Qe`\n",
    "  error = euclidean_distance(Q, Qe)\n",
    "  with_logger(mpi_logger) do\n",
    "    @info @sprintf(\"\"\"Run with\n",
    "                   dim              = %d\n",
    "                   Ne               = %d\n",
    "                   polynomial order = %d\n",
    "                   error            = %e\n",
    "                   \"\"\", dim, Ne, polynomialorder, error)\n",
    "  end\n",
    "end"
   ],
   "metadata": {},
   "execution_count": 9
  },
  {
   "outputs": [],
   "cell_type": "markdown",
   "source": [
    "### Using ODE solver callback functions\n",
    "The above simulation run with `solve!` runs from the initial time to the final\n",
    "time. The ODE solver framework in CLIMA gives functionality that allows the\n",
    "user to *inject* code into the solver during execution. Here we show how to\n",
    "use some of the generic callback functions provided to\n",
    "\n",
    " - Save diagnostic information\n",
    " - display runtime simulation information\n",
    " - save VTK files during the simulation\n",
    "\n",
    "Note: This whole code chunk is in a `let` block"
   ],
   "metadata": {}
  },
  {
   "outputs": [
    {
     "name": "stdout",
     "output_type": "stream",
     "text": [
      "┌ Info: Update\n",
      "│ simtime = 7.0312500000000000e-02\n",
      "│ runtime = 00:00:00\n",
      "└ norm(Q) = 2.2795853022614825e+00\n",
      "┌ Info: Update\n",
      "│ simtime = 2.6718749999999958e-01\n",
      "│ runtime = 00:00:01\n",
      "└ norm(Q) = 2.2795853020420020e+00\n",
      "┌ Info: Update\n",
      "│ simtime = 4.6718750000000242e-01\n",
      "│ runtime = 00:00:02\n",
      "└ norm(Q) = 2.2795853018191807e+00\n",
      "┌ Info: Update\n",
      "│ simtime = 6.7031250000000531e-01\n",
      "│ runtime = 00:00:03\n",
      "└ norm(Q) = 2.2795853015928818e+00\n",
      "┌ Info: Update\n",
      "│ simtime = 8.6875000000000813e-01\n",
      "│ runtime = 00:00:04\n",
      "└ norm(Q) = 2.2795853013718279e+00\n",
      "┌ Info: Run with\n",
      "│ dim              = 2\n",
      "│ Ne               = 20\n",
      "│ polynomial order = 4\n",
      "└ error            = 3.219188e-06\n"
     ]
    }
   ],
   "cell_type": "code",
   "source": [
    "let\n",
    "  # code is the same as above until the `solve!` call\n",
    "  mpicomm = MPI.COMM_WORLD\n",
    "  mpi_logger = ConsoleLogger(MPI.Comm_rank(mpicomm) == 0 ? stderr : devnull)\n",
    "  dim = 2\n",
    "  Ne = 20\n",
    "  polynomialorder = 4\n",
    "  spatialdiscretization = setupDG(mpicomm, dim, Ne, polynomialorder)\n",
    "  Q = MPIStateArray(spatialdiscretization, initialcondition!)\n",
    "  filename = @sprintf(\"initialcondition_mpirank%04d\", MPI.Comm_rank(mpicomm))\n",
    "  writevtk(filename, Q, spatialdiscretization,\n",
    "                                       (\"q\",))\n",
    "  h = 1 / Ne\n",
    "  CFL = h / maximum(abs.(uvec[1:dim]))\n",
    "  dt = CFL / polynomialorder^2\n",
    "  lsrk = LSRK54CarpenterKennedy(spatialdiscretization, Q; dt = dt, t0 = 0)\n",
    "  finaltime = 1.0\n",
    "  # The ODE solver callback functions are called both before the ODE solver\n",
    "  # begins and then after each time step.\n",
    "  #\n",
    "  # For instance if a user wanted to store the norm of the solution every time\n",
    "  # step the following callback could be used\n",
    "  store_norm_index = 0\n",
    "  normQ = Array{Float64}(undef, ceil(Int, finaltime / dt))\n",
    "  function cb_store_norm()\n",
    "    store_norm_index += 1\n",
    "    normQ[store_norm_index] = norm(Q)\n",
    "    nothing\n",
    "  end\n",
    "  # Note: that callbacks must return either `nothing` or `0` if the ODE solver\n",
    "  # should continue, `1` is the ODE solver should stop after all the callbacks\n",
    "  # have executed, or `2` is the time stepping should immediately stop with no\n",
    "  # further callbacks executed.\n",
    "  # Several generic callbacks are provided in the `CLIMA.GenericCallbacks`\n",
    "  # submodule. For instance, the `EveryXSimulationSteps` callbacks will execute\n",
    "  # every `X` time steps. This could be used to say write VTK output every `20`\n",
    "  # time steps\n",
    "  vtk_step = 0\n",
    "  mkpath(\"vtk\")\n",
    "  cb_vtk = GenericCallbacks.EveryXSimulationSteps(20) do\n",
    "    vtk_step += 1\n",
    "    filename = @sprintf(\"vtk/advection_mpirank%04d_step%04d\",\n",
    "                         MPI.Comm_rank(mpicomm), vtk_step)\n",
    "    writevtk(filename, Q, spatialdiscretization,\n",
    "                                         (\"q\",))\n",
    "    nothing\n",
    "  end\n",
    "  # Another provided generic callback is `EveryXWallTimeSeconds` which will be\n",
    "  # called every `X` seconds of wall clock time (as opposed to simulation time).\n",
    "  # This could be used to dump diagnostic information about the simulation. In\n",
    "  # this case we display the norm of the simulation time, the run time, and the\n",
    "  # norm of the solution.\n",
    "  #\n",
    "  # One unique feature of this call back is that it takes in a single optional\n",
    "  # argument `init` which allows the ODE solver to call the callback for\n",
    "  # initialization; all callbacks get called for initialization with a single\n",
    "  # boolean argument set to `true`, but this occurs in a `try/catch` statement\n",
    "  # in case the callback does not require initialization (such as the two\n",
    "  # above).\n",
    "  starttime = Ref(now())\n",
    "  cb_info = GenericCallbacks.EveryXWallTimeSeconds(1, mpicomm) do (init=false)\n",
    "    if init\n",
    "      starttime[] = now()\n",
    "    else\n",
    "      with_logger(mpi_logger) do\n",
    "        @info @sprintf(\"\"\"Update\n",
    "                       simtime = %.16e\n",
    "                       runtime = %s\n",
    "                       norm(Q) = %.16e\"\"\", ODESolvers.gettime(lsrk),\n",
    "                       Dates.format(convert(Dates.DateTime,\n",
    "                                            Dates.now()-starttime[]),\n",
    "                                    Dates.dateformat\"HH:MM:SS\"),\n",
    "                       norm(Q))\n",
    "      end\n",
    "    end\n",
    "  end\n",
    "  # Note that this callback also takes in the MPI communicator. This is\n",
    "  # necessary because the callback needs to execute an `MPI.Allreduce` to ensure\n",
    "  # that all the MPI ranks are using the same global run time.\n",
    "  # the defined callbacks are based to the ODE `solve!` function through the\n",
    "  # keyword argument `callbacks` as a tuple:\n",
    "  solve!(Q, lsrk; timeend = finaltime,\n",
    "         callbacks = (cb_store_norm, cb_vtk, cb_info))\n",
    "  # The remainder of the function is the same as above\n",
    "  filename = @sprintf(\"finalsolution_mpirank%04d\", MPI.Comm_rank(mpicomm))\n",
    "  writevtk(filename, Q, spatialdiscretization,\n",
    "                                       (\"q\",))\n",
    "\n",
    "  Qe = MPIStateArray(spatialdiscretization) do Qin, x, y, z\n",
    "    exactsolution!(dim, Qin, finaltime, x, y, z)\n",
    "  end\n",
    "  error = euclidean_distance(Q, Qe)\n",
    "  with_logger(mpi_logger) do\n",
    "    @info @sprintf(\"\"\"Run with\n",
    "                   dim              = %d\n",
    "                   Ne               = %d\n",
    "                   polynomial order = %d\n",
    "                   error            = %e\n",
    "                   \"\"\", dim, Ne, polynomialorder, error)\n",
    "  end\n",
    "end"
   ],
   "metadata": {},
   "execution_count": 10
  },
  {
   "outputs": [],
   "cell_type": "markdown",
   "source": [
    "### Computing rates and errors\n",
    "If the above code is put in a loop over increasing `Ne` then a rate of\n",
    "convergence for the scheme can be established which we expect to be\n",
    "on the order of the polynomial order plus $\\sim 1/2$."
   ],
   "metadata": {}
  },
  {
   "outputs": [
    {
     "name": "stdout",
     "output_type": "stream",
     "text": [
      "┌ Info: Running with\n",
      "│ dim              = 2\n",
      "└ polynomial order = 4\n",
      "┌ Info: Level      = 1\n",
      "│ Ne               = 5\n",
      "└ error            = 5.1353e-03\n",
      "┌ Info: Level      = 2\n",
      "│ Ne               = 10\n",
      "│ error            = 1.0321e-04\n",
      "└ convergence rate = 5.6369e+00\n",
      "┌ Info: Level      = 3\n",
      "│ Ne               = 20\n",
      "│ error            = 3.2192e-06\n",
      "└ convergence rate = 5.0027e+00\n",
      "┌ Info: Level      = 4\n",
      "│ Ne               = 40\n",
      "│ error            = 1.0168e-07\n",
      "└ convergence rate = 4.9846e+00\n"
     ]
    }
   ],
   "cell_type": "code",
   "source": [
    "let\n",
    "  mpicomm = MPI.COMM_WORLD\n",
    "  mpi_logger = ConsoleLogger(MPI.Comm_rank(mpicomm) == 0 ? stderr : devnull)\n",
    "\n",
    "  dim = 2\n",
    "  polynomialorder = 4\n",
    "  finaltime = 1.0\n",
    "\n",
    "  with_logger(mpi_logger) do\n",
    "    @info @sprintf(\"\"\"Running with\n",
    "                   dim              = %d\n",
    "                   polynomial order = %d\n",
    "                   \"\"\", dim, polynomialorder)\n",
    "  end\n",
    "\n",
    "  base_Ne = 5\n",
    "  lvl_error = zeros(4) # number of levels to compute is length(lvl_error)\n",
    "  for lvl = 1:length(lvl_error)\n",
    "    # `Ne` for this mesh level\n",
    "    Ne = base_Ne * 2^(lvl-1)\n",
    "    spatialdiscretization = setupDG(mpicomm, dim, Ne, polynomialorder)\n",
    "\n",
    "    Q = MPIStateArray(spatialdiscretization, initialcondition!)\n",
    "    h = 1 / Ne\n",
    "    CFL = h / maximum(abs.(uvec[1:dim]))\n",
    "    dt = CFL / polynomialorder^2\n",
    "    lsrk = LSRK54CarpenterKennedy(spatialdiscretization, Q; dt = dt, t0 = 0)\n",
    "\n",
    "    solve!(Q, lsrk; timeend = finaltime)\n",
    "\n",
    "    Qe = MPIStateArray(spatialdiscretization) do Qin, x, y, z\n",
    "      exactsolution!(dim, Qin, finaltime, x, y, z)\n",
    "    end\n",
    "\n",
    "    lvl_error[lvl] = euclidean_distance(Q, Qe)\n",
    "    msg =  @sprintf   \"Level      = %d\" lvl\n",
    "    msg *= @sprintf \"\\nNe               = %d\" Ne\n",
    "    msg *= @sprintf \"\\nerror            = %.4e\" lvl_error[lvl]\n",
    "    if lvl > 1\n",
    "      rate = log2(lvl_error[lvl-1]) - log2(lvl_error[lvl])\n",
    "      msg *= @sprintf \"\\nconvergence rate = %.4e\" rate\n",
    "    end\n",
    "    with_logger(mpi_logger) do\n",
    "      @info msg\n",
    "    end\n",
    "  end\n",
    "end"
   ],
   "metadata": {},
   "execution_count": 11
  },
  {
   "outputs": [],
   "cell_type": "markdown",
   "source": [
    "### Finalizing MPI (if necessary)\n",
    "If we are running interactively we do not want to finalize MPI now but at\n",
    "exit; this does not work for windows hence the check. Otherwise we can\n",
    "finalize MPI now."
   ],
   "metadata": {}
  },
  {
   "outputs": [
    {
     "output_type": "execute_result",
     "data": {
      "text/plain": "false"
     },
     "metadata": {},
     "execution_count": 12
    }
   ],
   "cell_type": "code",
   "source": [
    "Sys.iswindows() || MPI.finalize_atexit()\n",
    "Sys.iswindows() && !isinteractive() && MPI.Finalize()"
   ],
   "metadata": {},
   "execution_count": 12
  },
  {
   "outputs": [],
   "cell_type": "markdown",
   "source": [
    "*This notebook was generated using [Literate.jl](https://github.com/fredrikekre/Literate.jl).*"
   ],
   "metadata": {}
  }
 ],
 "nbformat_minor": 3,
 "metadata": {
  "language_info": {
   "file_extension": ".jl",
   "mimetype": "application/julia",
   "name": "julia",
   "version": "1.0.4"
  },
  "kernelspec": {
   "name": "julia-1.0",
   "display_name": "Julia 1.0.4",
   "language": "julia"
  }
 },
 "nbformat": 4
}
