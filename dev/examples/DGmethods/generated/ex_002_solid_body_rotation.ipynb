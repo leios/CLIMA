{
 "cells": [
  {
   "outputs": [],
   "cell_type": "markdown",
   "source": [
    "# Example 002: Solid Body Rotation\n",
    "\n",
    "\n",
    "Key ideas of this tutorial:\n",
    "  - Setting up auxiliary state variables\n",
    "  - Defining the boundary condition treatment\n",
    "\n",
    "## Introduction\n",
    "\n",
    "In this example we will solve the variable coefficient advection equation. The\n",
    "velocity field used is solid body rotation where the domain is the square or\n",
    "domain $\\Omega = [-1, 1]^{d}$ where $d=2$ or $3$.\n",
    "\n",
    "The partial differential equation we wish to solve is\n",
    "\\begin{equation}\n",
    "\\frac{\\partial q}{\\partial t} + \\nabla \\cdot (\\vec{u} q) = 0,\n",
    "\\end{equation}\n",
    "where $q$ is the advected field and the velocity field is $\\vec{u} = 2\\pi r\n",
    "(-\\sin(\\theta), \\cos(\\theta), 0)^{T}$ with $r = \\sqrt{x^2 + y^2}$ and $\\theta\n",
    "= \\arctan(y / x)$.\n",
    "\n",
    "The quantity $\\vec{u} q$ is more generally called the flux and denoted in the\n",
    "tutorial below as $\\boldsymbol{F}(q) = \\vec{u} q$.\n",
    "\n",
    "Below is a program interspersed with comments.\n",
    "\n",
    "## Commented Program"
   ],
   "metadata": {}
  },
  {
   "outputs": [],
   "cell_type": "markdown",
   "source": [
    "### Preliminaries\n",
    "Load in modules needed for solving the problem"
   ],
   "metadata": {}
  },
  {
   "outputs": [],
   "cell_type": "code",
   "source": [
    "using MPI\n",
    "using CLIMA.Mesh.Topologies\n",
    "using CLIMA.Mesh.Grids\n",
    "using CLIMA.DGBalanceLawDiscretizations\n",
    "using CLIMA.MPIStateArrays\n",
    "using CLIMA.LowStorageRungeKuttaMethod\n",
    "using CLIMA.ODESolvers\n",
    "using CLIMA.GenericCallbacks\n",
    "using CLIMA.Vtk\n",
    "using LinearAlgebra\n",
    "using Logging\n",
    "using Dates\n",
    "using Printf\n",
    "using StaticArrays"
   ],
   "metadata": {},
   "execution_count": 1
  },
  {
   "outputs": [],
   "cell_type": "markdown",
   "source": [
    "Start up MPI if this has not already been done"
   ],
   "metadata": {}
  },
  {
   "outputs": [
    {
     "output_type": "execute_result",
     "data": {
      "text/plain": "true"
     },
     "metadata": {},
     "execution_count": 2
    }
   ],
   "cell_type": "code",
   "source": [
    "MPI.Initialized() || MPI.Init()"
   ],
   "metadata": {},
   "execution_count": 2
  },
  {
   "outputs": [],
   "cell_type": "markdown",
   "source": [
    "### Initializing the Velocity Field\n",
    "The key difference between this example and [example\n",
    "001](ex_001_periodic_advection.html) is that in this case we have a\n",
    "non-constant velocity field. In the balance law solver, in addition to the\n",
    "PDE state at every degree of freedom we can also define a constant in time\n",
    "*auxiliary state,* and it is in this auxiliary state that we will store the\n",
    "velocity field.\n",
    "\n",
    "Initialization of the auxiliary state can happen in several ways, but here we\n",
    "will use the default `DGBalanceLaw` initialization interface which requires\n",
    "the user-defined function which given `x`, `y`, and `z` defines the auxiliary\n",
    "state"
   ],
   "metadata": {}
  },
  {
   "outputs": [
    {
     "output_type": "execute_result",
     "data": {
      "text/plain": "velocity_initilization! (generic function with 1 method)"
     },
     "metadata": {},
     "execution_count": 3
    }
   ],
   "cell_type": "code",
   "source": [
    "const num_aux_states = 3\n",
    "function velocity_initilization!(uvec::MVector{num_aux_states, DFloat},\n",
    "                                 x, y, z) where DFloat\n",
    "  @inbounds begin\n",
    "    r = hypot(x, y)\n",
    "    θ = atan(y, x)\n",
    "    uvec .= 2DFloat(π) * r .* (-sin(θ), cos(θ), 0)\n",
    "  end\n",
    "end"
   ],
   "metadata": {},
   "execution_count": 3
  },
  {
   "outputs": [],
   "cell_type": "markdown",
   "source": [
    "Note: We have caught the type of the elements in order the properly cast $\\pi$\n",
    "since `2pi` would be default be a `Float64`.\n",
    "\n",
    "Remark: Though not needed for this problem, if the user wishes to have access\n",
    "to the coordinate points during the simulation these should be stored in the\n",
    "auxiliary state which would increase the size of the auxiliary state."
   ],
   "metadata": {}
  },
  {
   "outputs": [],
   "cell_type": "markdown",
   "source": [
    "### Physical Flux"
   ],
   "metadata": {}
  },
  {
   "outputs": [
    {
     "output_type": "execute_result",
     "data": {
      "text/plain": "advectionflux! (generic function with 1 method)"
     },
     "metadata": {},
     "execution_count": 4
    }
   ],
   "cell_type": "code",
   "source": [
    "function advectionflux!(F, state, _, uvec, _)\n",
    "  DFloat = eltype(state) # get the floating point type we are using\n",
    "  @inbounds begin\n",
    "    q = state[1]\n",
    "    F[:, 1] = uvec * q\n",
    "  end\n",
    "end"
   ],
   "metadata": {},
   "execution_count": 4
  },
  {
   "outputs": [],
   "cell_type": "markdown",
   "source": [
    "### Numerical Flux\n",
    "As in [example 001](ex_001_periodic_advection.html) we will use an upwind\n",
    "numerical flux; more discussion of this can be seen in the [numerical\n",
    "flux](ex_001_periodic_advection.html#numerical_flux-1) section of example 001.\n",
    "\n",
    "The auxiliary state for the minus and plus sides of the interface will be\n",
    "passed in through arguments 4 and 6 of the numerical flux callback. Since the\n",
    "two sides of the interface are collocated the auxiliary state on the two sides\n",
    "should be the same."
   ],
   "metadata": {}
  },
  {
   "outputs": [
    {
     "output_type": "execute_result",
     "data": {
      "text/plain": "upwindflux! (generic function with 1 method)"
     },
     "metadata": {},
     "execution_count": 5
    }
   ],
   "cell_type": "code",
   "source": [
    "function upwindflux!(fs, nM, stateM, viscM, uvecM, stateP, viscP, uvecP, t)\n",
    "  DFloat = eltype(fs)\n",
    "  @inbounds begin\n",
    "    # determine the advection speed and direction\n",
    "    un = dot(nM, uvecM)\n",
    "    qM = stateM[1]\n",
    "    qP = stateP[1]\n",
    "    # Determine which state is \"upwind\" of the minus side\n",
    "    fs[1] = un ≥ 0 ? un * qM : un * qP\n",
    "  end\n",
    "end"
   ],
   "metadata": {},
   "execution_count": 5
  },
  {
   "outputs": [],
   "cell_type": "markdown",
   "source": [
    "### Boundary Numerical Flux\n",
    "Since we will not assume that the domain is periodic, we also need to define a\n",
    "boundary numerical flux which will be used to define the boundary conditions.\n",
    "Generally speaking, boundary conditions for purely hyperbolic problems should\n",
    "be imposed by relating incoming characteristic variables to outgoing\n",
    "characteristics. In this case we will use characteristic outflow boundary\n",
    "conditions and zero inflow boundary conditions.\n",
    "\n",
    "The syntax of the boundary flux is almost the same as the numerical flux\n",
    "except that the boundary condition type is passed into the function, though in\n",
    "this case we can neglect the value of the boundary condition flag. In the case\n",
    "of boundary conditions the plus state is set to the minus side state; this is\n",
    "done since in the case of model coupling this could be set to some values\n",
    "derived from the neighbouring model.\n",
    "\n",
    "In the case of advection with the outflow boundary condition and zero inflow,\n",
    "the boundary numerical flux is the same as the upwind flux except with $q^{+}$\n",
    "set to zero; more complicated PDES and boundary conditions would require more\n",
    "complex constructions."
   ],
   "metadata": {}
  },
  {
   "outputs": [
    {
     "output_type": "execute_result",
     "data": {
      "text/plain": "upwindboundaryflux! (generic function with 1 method)"
     },
     "metadata": {},
     "execution_count": 6
    }
   ],
   "cell_type": "code",
   "source": [
    "function upwindboundaryflux!(fs, nM, stateM, viscM, uvecM, stateP, viscP, uvecP,\n",
    "                             bctype, t)\n",
    "  DFloat = eltype(fs)\n",
    "  @inbounds begin\n",
    "    # determine the advection speed and direction\n",
    "    un = dot(nM, uvecM)\n",
    "    qM = stateM[1]\n",
    "    # Determine which state is \"upwind\" of the minus side\n",
    "    fs[1] = un ≥ 0 ? un * qM : 0\n",
    "  end\n",
    "end"
   ],
   "metadata": {},
   "execution_count": 6
  },
  {
   "outputs": [],
   "cell_type": "markdown",
   "source": [
    "### Initial Condition\n",
    "In this example we take the initial condition to be\n",
    "\\begin{equation}\n",
    "q(\\vec{x}, t=0) =\n",
    "\\exp\\left(-\\left(8\\left\\|\\vec{x}-\\frac{1}{2}\\vec{e}_{1}\\right\\|_2\\right)^2\\right)\n",
    "\\end{equation}\n",
    "where $\\vec{e}_{1} = (1, 0, 0)^{T}$.\n",
    "\n",
    "Note: The initial condition will always be called as though the dimensionality\n",
    "of the problem is 3. For the domain used below `z = 0` when the problem is\n",
    "actually two-dimensional and thus the `hypot` call before is not effected by\n",
    "`z`\n",
    "\n",
    "Note: When the balance law solver calls the initial condition function the\n",
    "auxiliary state, in this case the velocity field, will also be included since\n",
    "the number of auxiliary variables is greater than zero."
   ],
   "metadata": {}
  },
  {
   "outputs": [
    {
     "output_type": "execute_result",
     "data": {
      "text/plain": "initialcondition! (generic function with 1 method)"
     },
     "metadata": {},
     "execution_count": 7
    }
   ],
   "cell_type": "code",
   "source": [
    "function initialcondition!(Q, x, y, z, _)\n",
    "  @inbounds Q[1] = exp(-(8 * hypot(x - 1//2, y, z))^2)\n",
    "end"
   ],
   "metadata": {},
   "execution_count": 7
  },
  {
   "outputs": [],
   "cell_type": "markdown",
   "source": [
    "### Exact Solution\n",
    "For solid body rotation the exact solution is computed by tracing back the\n",
    "rotation to the initial state.\n",
    "\n",
    "Note: `uvec` is included to match calling convention of `initialcondition!`"
   ],
   "metadata": {}
  },
  {
   "outputs": [
    {
     "output_type": "execute_result",
     "data": {
      "text/plain": "exactsolution! (generic function with 1 method)"
     },
     "metadata": {},
     "execution_count": 8
    }
   ],
   "cell_type": "code",
   "source": [
    "function exactsolution!(Q, t, x, y, z, uvec)\n",
    "  @inbounds begin\n",
    "    DFloat = eltype(Q)\n",
    "\n",
    "    r = hypot(x, y)\n",
    "    θ = atan(y, x) - 2DFloat(π) * t\n",
    "\n",
    "    x, y = r * cos(θ), r * sin(θ)\n",
    "\n",
    "    initialcondition!(Q, x, y, z, uvec)\n",
    "  end\n",
    "end"
   ],
   "metadata": {},
   "execution_count": 8
  },
  {
   "outputs": [],
   "cell_type": "markdown",
   "source": [
    "### Initialize the DG Method\n",
    "The initialization of the DG method is largely the same as the\n",
    "[intialization](ex_001_periodic_advection.html#Initial-Condition-1) discussion\n",
    "of [ex 001](ex_001_periodic_advection.html)."
   ],
   "metadata": {}
  },
  {
   "outputs": [
    {
     "output_type": "execute_result",
     "data": {
      "text/plain": "setupDG (generic function with 3 methods)"
     },
     "metadata": {},
     "execution_count": 9
    }
   ],
   "cell_type": "code",
   "source": [
    "function setupDG(mpicomm, dim, Ne, polynomialorder, DFloat=Float64,\n",
    "                 ArrayType=Array)\n",
    "\n",
    "  @assert ArrayType === Array\n",
    "\n",
    "  brickrange = (range(DFloat(-1); length=Ne+1, stop=1),\n",
    "                range(DFloat(-1); length=Ne+1, stop=1),\n",
    "                range(DFloat(-1); length=Ne+1, stop=1))\n",
    "  # By default the `BrickTopology` is not periodic, so unlike ex 001, we do not\n",
    "  # need to specify the periodicity\n",
    "  topology = BrickTopology(mpicomm, brickrange[1:dim])\n",
    "\n",
    "  grid = DiscontinuousSpectralElementGrid(topology; polynomialorder =\n",
    "                                          polynomialorder, FloatType = DFloat,\n",
    "                                          DeviceArray = ArrayType,)\n",
    "  # Note the additional keyword arguments: `numerical_boundary_flux!`\n",
    "  # which is used to pass the numerical flux function that implements the\n",
    "  # boundary condition, `auxiliary_state_length` which defines the number of\n",
    "  # auxiliary state fields at each degree of freedom, and\n",
    "  # `auxiliary_state_initialization!` which initializes the auxiliary state.\n",
    "  spatialdiscretization = DGBalanceLaw(grid = grid, length_state_vector = 1,\n",
    "                                       flux! = advectionflux!,\n",
    "                                       numerical_flux! = upwindflux!,\n",
    "                                       numerical_boundary_flux! =\n",
    "                                       upwindboundaryflux!,\n",
    "                                       auxiliary_state_length = num_aux_states,\n",
    "                                       auxiliary_state_initialization! =\n",
    "                                       velocity_initilization!)\n",
    "\n",
    "end"
   ],
   "metadata": {},
   "execution_count": 9
  },
  {
   "outputs": [],
   "cell_type": "markdown",
   "source": [
    "### Initializing and run the DG method\n",
    "This `let` statement is largely the same as the [Using ODE solver callback\n",
    "functions](ex_001_periodic_advection.html#Using-ODE-solver-callback-functions-1)\n",
    "block from ex 001. Difference are highlighted."
   ],
   "metadata": {}
  },
  {
   "outputs": [
    {
     "name": "stdout",
     "output_type": "stream",
     "text": [
      "┌ Info: Run with\n",
      "│ dim              = 2\n",
      "│ Ne               = 20\n",
      "│ polynomial order = 4\n",
      "└ error            = 1.577257e-04\n"
     ]
    }
   ],
   "cell_type": "code",
   "source": [
    "let\n",
    "  mpicomm = MPI.COMM_WORLD\n",
    "  mpi_logger = ConsoleLogger(MPI.Comm_rank(mpicomm) == 0 ? stderr : devnull)\n",
    "  dim = 2\n",
    "  Ne = 20\n",
    "  polynomialorder = 4\n",
    "  spatialdiscretization = setupDG(mpicomm, dim, Ne, polynomialorder)\n",
    "  Q = MPIStateArray(spatialdiscretization, initialcondition!)\n",
    "  filename = @sprintf(\"initialcondition_mpirank%04d\", MPI.Comm_rank(mpicomm))\n",
    "  writevtk(filename, Q, spatialdiscretization,\n",
    "                                       (\"q\",))\n",
    "\n",
    "  h = 1 / Ne\n",
    "  # Since we are on the $[-1, 1]^d$ domain, the maximum velocity will by $2\\pi$,\n",
    "  # thus this defines the CFL restriction\n",
    "  CFL = h / (2π)\n",
    "  dt = CFL / polynomialorder^2\n",
    "  lsrk = LSRK54CarpenterKennedy(spatialdiscretization, Q; dt = dt, t0 = 0)\n",
    "  finaltime = 1.0\n",
    "  # For simplicity we only include the vtk callback\n",
    "  vtk_step = 0\n",
    "  mkpath(\"vtk\")\n",
    "  cb_vtk = GenericCallbacks.EveryXSimulationSteps(20) do\n",
    "    vtk_step += 1\n",
    "    filename = @sprintf(\"vtk/solid_body_rotation_mpirank%04d_step%04d\",\n",
    "                         MPI.Comm_rank(mpicomm), vtk_step)\n",
    "    writevtk(filename, Q, spatialdiscretization,\n",
    "                                         (\"q\",))\n",
    "    nothing\n",
    "  end\n",
    "\n",
    "  solve!(Q, lsrk; timeend = finaltime, callbacks = (cb_vtk, ))\n",
    "\n",
    "  filename = @sprintf(\"finalsolution_mpirank%04d\", MPI.Comm_rank(mpicomm))\n",
    "  writevtk(filename, Q, spatialdiscretization,\n",
    "                                       (\"q\",))\n",
    "  # As with the initial condition, we need to catch the auxiliary state `uvec`\n",
    "  # in this initialization call.\n",
    "  Qe = MPIStateArray(spatialdiscretization) do Qin, x, y, z, uvec\n",
    "    exactsolution!(Qin, finaltime, x, y, z, uvec)\n",
    "  end\n",
    "\n",
    "  error = euclidean_distance(Q, Qe)\n",
    "  with_logger(mpi_logger) do\n",
    "    @info @sprintf(\"\"\"Run with\n",
    "                   dim              = %d\n",
    "                   Ne               = %d\n",
    "                   polynomial order = %d\n",
    "                   error            = %e\n",
    "                   \"\"\", dim, Ne, polynomialorder, error)\n",
    "  end\n",
    "end"
   ],
   "metadata": {},
   "execution_count": 10
  },
  {
   "outputs": [],
   "cell_type": "markdown",
   "source": [
    "### Computing rates and errors\n",
    "As with ex 001, since the analytic solution is known we can compute the rate\n",
    "of convergence of the scheme"
   ],
   "metadata": {}
  },
  {
   "outputs": [
    {
     "name": "stdout",
     "output_type": "stream",
     "text": [
      "┌ Info: Running with\n",
      "│ dim              = 2\n",
      "└ polynomial order = 4\n",
      "┌ Info: Level      = 1\n",
      "│ Ne               = 5\n",
      "└ error            = 5.7704e-02\n",
      "┌ Info: Level      = 2\n",
      "│ Ne               = 10\n",
      "│ error            = 7.2082e-03\n",
      "└ convergence rate = 3.0010e+00\n",
      "┌ Info: Level      = 3\n",
      "│ Ne               = 20\n",
      "│ error            = 1.5773e-04\n",
      "└ convergence rate = 5.5141e+00\n",
      "┌ Info: Level      = 4\n",
      "│ Ne               = 40\n",
      "│ error            = 3.3760e-06\n",
      "└ convergence rate = 5.5460e+00\n"
     ]
    }
   ],
   "cell_type": "code",
   "source": [
    "let\n",
    "  mpicomm = MPI.COMM_WORLD\n",
    "  mpi_logger = ConsoleLogger(MPI.Comm_rank(mpicomm) == 0 ? stderr : devnull)\n",
    "\n",
    "  dim = 2\n",
    "  polynomialorder = 4\n",
    "  finaltime = 1.0\n",
    "\n",
    "  with_logger(mpi_logger) do\n",
    "    @info @sprintf(\"\"\"Running with\n",
    "                   dim              = %d\n",
    "                   polynomial order = %d\n",
    "                   \"\"\", dim, polynomialorder)\n",
    "  end\n",
    "\n",
    "  base_Ne = 5\n",
    "  lvl_error = zeros(4) # number of levels to compute is length(lvl_error)\n",
    "  for lvl = 1:length(lvl_error)\n",
    "    # `Ne` for this mesh level\n",
    "    Ne = base_Ne * 2^(lvl-1)\n",
    "    spatialdiscretization = setupDG(mpicomm, dim, Ne, polynomialorder)\n",
    "\n",
    "    Q = MPIStateArray(spatialdiscretization, initialcondition!)\n",
    "    h = 1 / Ne\n",
    "    CFL = h / (2π)\n",
    "    dt = CFL / polynomialorder^2\n",
    "    lsrk = LSRK54CarpenterKennedy(spatialdiscretization, Q; dt = dt, t0 = 0)\n",
    "\n",
    "    solve!(Q, lsrk; timeend = finaltime)\n",
    "\n",
    "    Qe = MPIStateArray(spatialdiscretization) do Qin, x, y, z, uvec\n",
    "      exactsolution!(Qin, finaltime, x, y, z, uvec)\n",
    "    end\n",
    "\n",
    "    lvl_error[lvl] = euclidean_distance(Q, Qe)\n",
    "    msg =  @sprintf   \"Level      = %d\" lvl\n",
    "    msg *= @sprintf \"\\nNe               = %d\" Ne\n",
    "    msg *= @sprintf \"\\nerror            = %.4e\" lvl_error[lvl]\n",
    "    if lvl > 1\n",
    "      rate = log2(lvl_error[lvl-1]) - log2(lvl_error[lvl])\n",
    "      msg *= @sprintf \"\\nconvergence rate = %.4e\" rate\n",
    "    end\n",
    "    with_logger(mpi_logger) do\n",
    "      @info msg\n",
    "    end\n",
    "  end\n",
    "end"
   ],
   "metadata": {},
   "execution_count": 11
  },
  {
   "outputs": [],
   "cell_type": "markdown",
   "source": [
    "*This notebook was generated using [Literate.jl](https://github.com/fredrikekre/Literate.jl).*"
   ],
   "metadata": {}
  }
 ],
 "nbformat_minor": 3,
 "metadata": {
  "language_info": {
   "file_extension": ".jl",
   "mimetype": "application/julia",
   "name": "julia",
   "version": "1.1.1"
  },
  "kernelspec": {
   "name": "julia-1.1",
   "display_name": "Julia 1.1.1",
   "language": "julia"
  }
 },
 "nbformat": 4
}
