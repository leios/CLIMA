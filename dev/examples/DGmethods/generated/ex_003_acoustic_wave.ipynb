{
 "cells": [
  {
   "outputs": [],
   "cell_type": "markdown",
   "source": [
    "# Example 003: Acoustic Wave on Sphere\n",
    "\n",
    "\n",
    "## Introduction\n",
    "\n",
    "In this example we will set up and run the acoustic wave test problem from\n",
    "[Tomita and Satoh (2004)](https://doi.org/10.1016/j.fluiddyn.2004.03.003).\n",
    "```\n",
    "@article{TomitaSatoh2004,\n",
    "  author = {Hirofumi Tomita and Masaki Satoh},\n",
    "  title = {A new dynamical framework of nonhydrostatic global model using the\n",
    "           icosahedral grid},\n",
    "  journal = {Fluid Dynamics Research},\n",
    "  volume = {34},\n",
    "  number = {6},\n",
    "  pages = {357-400},\n",
    "  year = {2004},\n",
    "  doi = {10.1016/j.fluiddyn.2004.03.003},\n",
    "}\n",
    "```"
   ],
   "metadata": {}
  },
  {
   "outputs": [],
   "cell_type": "markdown",
   "source": [
    "Below is a program interspersed with comments.\n",
    "\n",
    "## Commented Program"
   ],
   "metadata": {}
  },
  {
   "outputs": [],
   "cell_type": "markdown",
   "source": [
    "### Preliminaries\n",
    "Load in modules needed for solving the problem"
   ],
   "metadata": {}
  },
  {
   "outputs": [],
   "cell_type": "code",
   "source": [
    "using MPI\n",
    "using Logging\n",
    "using LinearAlgebra\n",
    "using Dates\n",
    "using Printf\n",
    "using CLIMA\n",
    "using CLIMA.Topologies\n",
    "using CLIMA.MPIStateArrays\n",
    "using CLIMA.Grids\n",
    "using CLIMA.DGBalanceLawDiscretizations\n",
    "using CLIMA.DGBalanceLawDiscretizations.NumericalFluxes\n",
    "using CLIMA.Vtk\n",
    "using CLIMA.LowStorageRungeKuttaMethod\n",
    "using CLIMA.ODESolvers\n",
    "using CLIMA.GenericCallbacks"
   ],
   "metadata": {},
   "execution_count": 1
  },
  {
   "outputs": [],
   "cell_type": "markdown",
   "source": [
    "Though not required, here we are explicit about which values we read out the\n",
    "`PlanetParameters` and `MoistThermodynamics`"
   ],
   "metadata": {}
  },
  {
   "outputs": [
    {
     "output_type": "execute_result",
     "data": {
      "text/plain": "true"
     },
     "metadata": {},
     "execution_count": 2
    }
   ],
   "cell_type": "code",
   "source": [
    "using CLIMA.PlanetParameters: planet_radius, grav, MSLP\n",
    "using CLIMA.MoistThermodynamics: air_temperature, air_pressure, internal_energy,\n",
    "                                 soundspeed_air, air_density, gas_constant_air\n",
    "# Start up MPI if this has not already been done\n",
    "MPI.Initialized() || MPI.Init()"
   ],
   "metadata": {},
   "execution_count": 2
  },
  {
   "outputs": [],
   "cell_type": "markdown",
   "source": [
    "If `CuArrays` is in the current environment we will use CUDA, otherwise we\n",
    "drop back to the CPU"
   ],
   "metadata": {}
  },
  {
   "outputs": [
    {
     "output_type": "execute_result",
     "data": {
      "text/plain": "Array"
     },
     "metadata": {},
     "execution_count": 3
    }
   ],
   "cell_type": "code",
   "source": [
    "@static if haspkg(\"CuArrays\")\n",
    "  using CUDAdrv\n",
    "  using CUDAnative\n",
    "  using CuArrays\n",
    "  CuArrays.allowscalar(false)\n",
    "  const DeviceArrayType = CuArray\n",
    "else\n",
    "  const DeviceArrayType = Array\n",
    "end"
   ],
   "metadata": {},
   "execution_count": 3
  },
  {
   "outputs": [],
   "cell_type": "markdown",
   "source": [
    "Specify whether to enforce hydrostatic balance at PDE level or not"
   ],
   "metadata": {}
  },
  {
   "outputs": [
    {
     "output_type": "execute_result",
     "data": {
      "text/plain": "true"
     },
     "metadata": {},
     "execution_count": 4
    }
   ],
   "cell_type": "code",
   "source": [
    "const PDE_level_hydrostatic_balance = true"
   ],
   "metadata": {},
   "execution_count": 4
  },
  {
   "outputs": [],
   "cell_type": "markdown",
   "source": [
    "check whether to use default VTK directory or define something else"
   ],
   "metadata": {}
  },
  {
   "outputs": [
    {
     "output_type": "execute_result",
     "data": {
      "text/plain": "\"vtk\""
     },
     "metadata": {},
     "execution_count": 5
    }
   ],
   "cell_type": "code",
   "source": [
    "VTKDIR = get(ENV, \"CLIMA_VTK_DIR\", \"vtk\")"
   ],
   "metadata": {},
   "execution_count": 5
  },
  {
   "outputs": [],
   "cell_type": "markdown",
   "source": [
    "Here we setup constants to for some of the computational parameters; the\n",
    "underscore is just syntactic sugar to indicate that these are constants."
   ],
   "metadata": {}
  },
  {
   "outputs": [],
   "cell_type": "markdown",
   "source": [
    "These are parameters related to the Euler state. Here we used the conserved\n",
    "variables for the state: perturbation in density, three components of\n",
    "momentum, and perturbation to the total energy."
   ],
   "metadata": {}
  },
  {
   "outputs": [
    {
     "output_type": "execute_result",
     "data": {
      "text/plain": "(\"δρ\", \"ρu\", \"ρv\", \"ρw\", \"δρe\")"
     },
     "metadata": {},
     "execution_count": 6
    }
   ],
   "cell_type": "code",
   "source": [
    "const _nstate = 5\n",
    "const _dρ, _ρu, _ρv, _ρw, _dρe = 1:_nstate\n",
    "const _statenames = (\"δρ\", \"ρu\", \"ρv\", \"ρw\", \"δρe\")"
   ],
   "metadata": {},
   "execution_count": 6
  },
  {
   "outputs": [],
   "cell_type": "markdown",
   "source": [
    "These will be the auxiliary state which will contain the geopotential,\n",
    "gradient of the geopotential, and reference values for density and total\n",
    "energy"
   ],
   "metadata": {}
  },
  {
   "outputs": [
    {
     "output_type": "execute_result",
     "data": {
      "text/plain": "(\"ϕ\", \"ϕx\", \"ϕy\", \"ϕz\", \"ρ_ref\", \"ρe_ref\")"
     },
     "metadata": {},
     "execution_count": 7
    }
   ],
   "cell_type": "code",
   "source": [
    "const _nauxstate = 6\n",
    "const _a_ϕ, _a_ϕx, _a_ϕy, _a_ϕz, _a_ρ_ref, _a_ρe_ref = 1:_nauxstate\n",
    "const _auxnames = (\"ϕ\", \"ϕx\", \"ϕy\", \"ϕz\", \"ρ_ref\", \"ρe_ref\")"
   ],
   "metadata": {},
   "execution_count": 7
  },
  {
   "outputs": [],
   "cell_type": "markdown",
   "source": [
    "### Definition of the physics"
   ],
   "metadata": {}
  },
  {
   "outputs": [
    {
     "output_type": "execute_result",
     "data": {
      "text/plain": "eulerflux! (generic function with 1 method)"
     },
     "metadata": {},
     "execution_count": 8
    }
   ],
   "cell_type": "code",
   "source": [
    "function eulerflux!(F, Q, _, aux, t)\n",
    "  @inbounds begin\n",
    "    # extract the states\n",
    "    dρ, ρu, ρv, ρw, dρe = Q[_dρ], Q[_ρu], Q[_ρv], Q[_ρw], Q[_dρe]\n",
    "    ρ_ref, ρe_ref, ϕ = aux[_a_ρ_ref], aux[_a_ρe_ref], aux[_a_ϕ]\n",
    "\n",
    "    ρ = ρ_ref + dρ\n",
    "    ρe = ρe_ref + dρe\n",
    "    e = ρe / ρ\n",
    "\n",
    "    # compute the velocity\n",
    "    u, v, w = ρu / ρ, ρv / ρ, ρw / ρ\n",
    "\n",
    "    # internal energy\n",
    "    e_int = e - (u^2 + v^2 + w^2)/2 - ϕ\n",
    "\n",
    "    # compute the pressure\n",
    "    T = air_temperature(e_int)\n",
    "    P = air_pressure(T, ρ)\n",
    "\n",
    "    e_ref_int = ρe_ref / ρ_ref - ϕ\n",
    "    T_ref = air_temperature(e_ref_int)\n",
    "    P_ref = air_pressure(T_ref, ρ_ref)\n",
    "\n",
    "    # set the actual flux\n",
    "    F[1, _dρ ], F[2, _dρ ], F[3, _dρ ] = ρu          , ρv          , ρw\n",
    "    if PDE_level_hydrostatic_balance\n",
    "      δP = P - P_ref\n",
    "      F[1, _ρu], F[2, _ρu], F[3, _ρu] = u * ρu  + δP, v * ρu     , w * ρu\n",
    "      F[1, _ρv], F[2, _ρv], F[3, _ρv] = u * ρv      , v * ρv + δP, w * ρv\n",
    "      F[1, _ρw], F[2, _ρw], F[3, _ρw] = u * ρw      , v * ρw     , w * ρw + δP\n",
    "    else\n",
    "      F[1, _ρu], F[2, _ρu], F[3, _ρu] = u * ρu  + P, v * ρu    , w * ρu\n",
    "      F[1, _ρv], F[2, _ρv], F[3, _ρv] = u * ρv     , v * ρv + P, w * ρv\n",
    "      F[1, _ρw], F[2, _ρw], F[3, _ρw] = u * ρw     , v * ρw    , w * ρw + P\n",
    "    end\n",
    "    F[1, _dρe], F[2, _dρe], F[3, _dρe] = u * (ρe + P), v * (ρe + P), w * (ρe + P)\n",
    "  end\n",
    "end"
   ],
   "metadata": {},
   "execution_count": 8
  },
  {
   "outputs": [],
   "cell_type": "markdown",
   "source": [
    "Define the geopotential source from the solution and auxiliary variables"
   ],
   "metadata": {}
  },
  {
   "outputs": [
    {
     "output_type": "execute_result",
     "data": {
      "text/plain": "geopotential! (generic function with 1 method)"
     },
     "metadata": {},
     "execution_count": 9
    }
   ],
   "cell_type": "code",
   "source": [
    "function geopotential!(S, Q, aux, t)\n",
    "  @inbounds begin\n",
    "    ρ_ref, ϕx, ϕy, ϕz = aux[_a_ρ_ref], aux[_a_ϕx], aux[_a_ϕy], aux[_a_ϕz]\n",
    "    dρ = Q[_dρ]\n",
    "    S[_dρ ] = 0\n",
    "    if PDE_level_hydrostatic_balance\n",
    "      S[_ρu ] = -dρ * ϕx\n",
    "      S[_ρv ] = -dρ * ϕy\n",
    "      S[_ρw ] = -dρ * ϕz\n",
    "    else\n",
    "      ρ = ρ_ref + dρ\n",
    "      S[_ρu ] = -ρ * ϕx\n",
    "      S[_ρv ] = -ρ * ϕy\n",
    "      S[_ρw ] = -ρ * ϕz\n",
    "    end\n",
    "    S[_dρe] = 0\n",
    "  end\n",
    "end"
   ],
   "metadata": {},
   "execution_count": 9
  },
  {
   "outputs": [],
   "cell_type": "markdown",
   "source": [
    "This defines the local wave speed from the current state (this will be needed\n",
    "to define the numerical flux)"
   ],
   "metadata": {}
  },
  {
   "outputs": [
    {
     "output_type": "execute_result",
     "data": {
      "text/plain": "wavespeed (generic function with 1 method)"
     },
     "metadata": {},
     "execution_count": 10
    }
   ],
   "cell_type": "code",
   "source": [
    "function wavespeed(n, Q, aux, _...)\n",
    "  @inbounds begin\n",
    "    ρ_ref, ρe_ref, ϕ = aux[_a_ρ_ref], aux[_a_ρe_ref], aux[_a_ϕ]\n",
    "    dρ, ρu, ρv, ρw, dρe = Q[_dρ], Q[_ρu], Q[_ρv], Q[_ρw], Q[_dρe]\n",
    "\n",
    "    # get total energy and density\n",
    "    ρ = ρ_ref + dρ\n",
    "    e = (ρe_ref + dρe) / ρ\n",
    "\n",
    "    # velocity field\n",
    "    u, v, w = ρu / ρ, ρv / ρ, ρw / ρ\n",
    "\n",
    "    # internal energy\n",
    "    e_int = e - (u^2 + v^2 + w^2)/2 - ϕ\n",
    "\n",
    "    # compute the temperature\n",
    "    T = air_temperature(e_int)\n",
    "\n",
    "    abs(n[1] * u + n[2] * v + n[3] * w) + soundspeed_air(T)\n",
    "  end\n",
    "end"
   ],
   "metadata": {},
   "execution_count": 10
  },
  {
   "outputs": [],
   "cell_type": "markdown",
   "source": [
    "The only boundary condition needed for this test problem is the no flux\n",
    "boundary condition, the state for which is defined below. This function\n",
    "defines the plus-side (exterior) values from the minus-side (inside) values.\n",
    "This plus-side value will then be fed into the numerical flux routine in order\n",
    "to enforce the boundary condition."
   ],
   "metadata": {}
  },
  {
   "outputs": [
    {
     "output_type": "execute_result",
     "data": {
      "text/plain": "nofluxbc! (generic function with 1 method)"
     },
     "metadata": {},
     "execution_count": 11
    }
   ],
   "cell_type": "code",
   "source": [
    "function nofluxbc!(QP, _, _, nM, QM, _, auxM, _...)\n",
    "  @inbounds begin\n",
    "    DFloat = eltype(QM)\n",
    "    # get the minus values\n",
    "    dρM, ρuM, ρvM, ρwM, dρeM = QM[_dρ], QM[_ρu], QM[_ρv], QM[_ρw], QM[_dρe]\n",
    "\n",
    "    # scalars are preserved\n",
    "    dρP, dρeP = dρM, dρeM\n",
    "\n",
    "    # vectors are reflected\n",
    "    nx, ny, nz = nM[1], nM[2], nM[3]\n",
    "\n",
    "    # reflect velocities\n",
    "    mag_ρu⃗ = nx * ρuM + ny * ρvM + nz * ρwM\n",
    "    ρuP = ρuM - 2mag_ρu⃗ * nx\n",
    "    ρvP = ρvM - 2mag_ρu⃗ * ny\n",
    "    ρwP = ρwM - 2mag_ρu⃗ * nz\n",
    "\n",
    "    # Construct QP state\n",
    "    QP[_dρ], QP[_ρu], QP[_ρv], QP[_ρw], QP[_dρe] = dρP, ρuP, ρvP, ρwP, dρeP\n",
    "  end\n",
    "end"
   ],
   "metadata": {},
   "execution_count": 11
  },
  {
   "outputs": [],
   "cell_type": "markdown",
   "source": [
    "### Definition of the problem\n",
    "Here we define the initial condition as well as the auxiliary state (which\n",
    "contains the reference state on which the initial condition depends)"
   ],
   "metadata": {}
  },
  {
   "outputs": [],
   "cell_type": "markdown",
   "source": [
    "First it is useful to have a conversion function going between Cartesian and\n",
    "spherical coordinates (defined here in terms of radians)"
   ],
   "metadata": {}
  },
  {
   "outputs": [
    {
     "output_type": "execute_result",
     "data": {
      "text/plain": "cartesian_to_spherical (generic function with 1 method)"
     },
     "metadata": {},
     "execution_count": 12
    }
   ],
   "cell_type": "code",
   "source": [
    "function cartesian_to_spherical(DFloat, x, y, z)\n",
    "    r = hypot(x, y, z)\n",
    "    λ = atan(y, x)\n",
    "    φ = asin(z / r)\n",
    "    (r, λ, φ)\n",
    "end"
   ],
   "metadata": {},
   "execution_count": 12
  },
  {
   "outputs": [],
   "cell_type": "markdown",
   "source": [
    "Set up the geopotential and the background reference states. The temperature\n",
    "`T0` is the isothermal state defined in Tomita and Satoh (2004) to be `300 K`."
   ],
   "metadata": {}
  },
  {
   "outputs": [
    {
     "output_type": "execute_result",
     "data": {
      "text/plain": "auxiliary_state_initialization! (generic function with 1 method)"
     },
     "metadata": {},
     "execution_count": 13
    }
   ],
   "cell_type": "code",
   "source": [
    "function auxiliary_state_initialization!(T0, aux, x, y, z)\n",
    "  @inbounds begin\n",
    "    DFloat = eltype(aux)\n",
    "    p0 = DFloat(MSLP)\n",
    "\n",
    "    # Convert to Spherical coordinates\n",
    "    (r, _, _) = cartesian_to_spherical(DFloat, x, y, z)\n",
    "\n",
    "    # Calculate the geopotential ϕ\n",
    "    h = r - DFloat(planet_radius) # height above the planet surface\n",
    "    ϕ = DFloat(grav) * h\n",
    "\n",
    "    # Pressure assuming hydrostatic balance\n",
    "    P_ref = p0 * exp(-ϕ / (gas_constant_air() * T0))\n",
    "\n",
    "    # Density from the ideal gas law\n",
    "    ρ_ref = air_density(DFloat(T0), P_ref)\n",
    "\n",
    "    # Calculate the reference total potential energy\n",
    "    e_int = internal_energy(DFloat(T0))\n",
    "    ρe_ref = e_int * ρ_ref + ρ_ref * ϕ\n",
    "\n",
    "    # Fill the auxiliary state array\n",
    "    aux[_a_ϕ] = ϕ\n",
    "    # gradient of the geopotential will be computed numerical below\n",
    "    aux[_a_ϕx] = 0\n",
    "    aux[_a_ϕy] = 0\n",
    "    aux[_a_ϕz] = 0\n",
    "    aux[_a_ρ_ref] = ρ_ref\n",
    "    aux[_a_ρe_ref] = ρe_ref\n",
    "  end\n",
    "end"
   ],
   "metadata": {},
   "execution_count": 13
  },
  {
   "outputs": [],
   "cell_type": "markdown",
   "source": [
    "Setup the initial condition based on Tomita and Satoh (2004). `domain_height` is the\n",
    "height above the planet surface of the top of the atmosphere; defined in\n",
    "Tomita and Satoh (2004) to be `10` km."
   ],
   "metadata": {}
  },
  {
   "outputs": [
    {
     "output_type": "execute_result",
     "data": {
      "text/plain": "initialcondition! (generic function with 1 method)"
     },
     "metadata": {},
     "execution_count": 14
    }
   ],
   "cell_type": "code",
   "source": [
    "function initialcondition!(domain_height, Q, x, y, z, aux, _...)\n",
    "  @inbounds begin\n",
    "    DFloat = eltype(Q)\n",
    "    p0 = DFloat(MSLP)\n",
    "\n",
    "    (r, λ, φ) = cartesian_to_spherical(DFloat, x, y, z)\n",
    "    h = r - DFloat(planet_radius)\n",
    "\n",
    "    # Get the reference pressure from the previously defined reference state\n",
    "    ρ_ref, ρe_ref, ϕ = aux[_a_ρ_ref], aux[_a_ρe_ref], aux[_a_ϕ]\n",
    "    e_ref_int = ρe_ref / ρ_ref - ϕ\n",
    "    T_ref = air_temperature(e_ref_int)\n",
    "    P_ref = air_pressure(T_ref, ρ_ref)\n",
    "\n",
    "    # Define the initial pressure Perturbation\n",
    "    α, nv, γ = 3, 1, 100\n",
    "    β = min(DFloat(1), α * acos(cos(φ) * cos(λ)))\n",
    "    f = (1 + cos(π * β)) / 2\n",
    "    g = sin(nv * π * h / domain_height)\n",
    "    dP = γ * f * g\n",
    "\n",
    "    # Define the initial pressure and compute the density perturbation\n",
    "    P = P_ref + dP\n",
    "    ρ = air_density(T_ref, P)\n",
    "    dρ = ρ - ρ_ref\n",
    "\n",
    "    # Define the initial total energy perturbation\n",
    "    e_int = internal_energy(T_ref)\n",
    "    ρe = e_int * ρ + ρ * ϕ\n",
    "    dρe = ρe - ρe_ref\n",
    "\n",
    "    # Store Initial conditions\n",
    "    Q[_dρ], Q[_ρu], Q[_ρv], Q[_ρw], Q[_dρe] = dρ, 0, 0, 0, dρe\n",
    "  end\n",
    "end"
   ],
   "metadata": {},
   "execution_count": 14
  },
  {
   "outputs": [],
   "cell_type": "markdown",
   "source": [
    "This function compute the pressure perturbation for a given state. It will be\n",
    "used only in the computation of the pressure perturbation prior to writing the\n",
    "VTK output."
   ],
   "metadata": {}
  },
  {
   "outputs": [
    {
     "output_type": "execute_result",
     "data": {
      "text/plain": "compute_δP! (generic function with 1 method)"
     },
     "metadata": {},
     "execution_count": 15
    }
   ],
   "cell_type": "code",
   "source": [
    "function compute_δP!(δP, Q, _, aux)\n",
    "  @inbounds begin\n",
    "    # extract the states\n",
    "    dρ, ρu, ρv, ρw, dρe = Q[_dρ], Q[_ρu], Q[_ρv], Q[_ρw], Q[_dρe]\n",
    "    ρ_ref, ρe_ref, ϕ = aux[_a_ρ_ref], aux[_a_ρe_ref], aux[_a_ϕ]\n",
    "\n",
    "    # Compute the reference pressure\n",
    "    e_ref_int = ρe_ref / ρ_ref - ϕ\n",
    "    T_ref = air_temperature(e_ref_int)\n",
    "    P_ref = air_pressure(T_ref, ρ_ref)\n",
    "\n",
    "    # Compute the fulle states\n",
    "    ρ = ρ_ref + dρ\n",
    "    ρe = ρe_ref + dρe\n",
    "    e = ρe / ρ\n",
    "\n",
    "    # compute the velocity\n",
    "    u, v, w = ρu / ρ, ρv / ρ, ρw / ρ\n",
    "\n",
    "    # internal energy\n",
    "    e_int = e - (u^2 + v^2 + w^2)/2 - ϕ\n",
    "\n",
    "    # compute the pressure\n",
    "    T = air_temperature(e_int)\n",
    "    P = air_pressure(T, ρ)\n",
    "\n",
    "    # store the pressure perturbation\n",
    "    δP[1] = P - P_ref\n",
    "  end\n",
    "end"
   ],
   "metadata": {},
   "execution_count": 15
  },
  {
   "outputs": [],
   "cell_type": "markdown",
   "source": [
    "### Initialize the DG Method"
   ],
   "metadata": {}
  },
  {
   "outputs": [
    {
     "output_type": "execute_result",
     "data": {
      "text/plain": "setupDG (generic function with 1 method)"
     },
     "metadata": {},
     "execution_count": 16
    }
   ],
   "cell_type": "code",
   "source": [
    "function setupDG(mpicomm, Ne_vertical, Ne_horizontal, polynomialorder,\n",
    "                 ArrayType, domain_height, T0, DFloat)\n",
    "\n",
    "  # Create the element grid in the vertical direction\n",
    "  Rrange = range(DFloat(planet_radius), length = Ne_vertical + 1,\n",
    "                 stop = planet_radius + domain_height)\n",
    "\n",
    "  # Set up the mesh topology for the sphere\n",
    "  topology = StackedCubedSphereTopology(mpicomm, Ne_horizontal, Rrange)\n",
    "\n",
    "  # Set up the grid for the sphere. Note that here we need to pass the\n",
    "  # `cubedshellwarp` shell `meshwarp` function so that the degrees of freedom\n",
    "  # lay on the sphere (and not just stacked cubes)\n",
    "  grid = DiscontinuousSpectralElementGrid(topology;\n",
    "                                          polynomialorder = polynomialorder,\n",
    "                                          FloatType = DFloat,\n",
    "                                          DeviceArray = ArrayType,\n",
    "                                          meshwarp = Topologies.cubedshellwarp)\n",
    "\n",
    "  # Here we use the Rusanov numerical flux which requires the physical flux and\n",
    "  # wavespeed\n",
    "  numflux!(x...) = NumericalFluxes.rusanov!(x..., eulerflux!, wavespeed)\n",
    "\n",
    "  # We also use Rusanov to define the numerical boundary flux which also\n",
    "  # requires a definition of the state to use for the \"plus\" side of the\n",
    "  # boundary face (calculated here with `nofluxbc!`)\n",
    "  numbcflux!(x...) = NumericalFluxes.rusanov_boundary_flux!(x..., eulerflux!,\n",
    "                                                            nofluxbc!,\n",
    "                                                            wavespeed)\n",
    "\n",
    "  auxinit(x...) = auxiliary_state_initialization!(T0, x...)\n",
    "  # Define the balance law solver\n",
    "  spatialdiscretization = DGBalanceLaw(grid = grid,\n",
    "                                       length_state_vector = _nstate,\n",
    "                                       flux! = eulerflux!,\n",
    "                                       source! = geopotential!,\n",
    "                                       numerical_flux! = numflux!,\n",
    "                                       numerical_boundary_flux! = numbcflux!,\n",
    "                                       auxiliary_state_length = _nauxstate,\n",
    "                                       auxiliary_state_initialization! =\n",
    "                                       auxinit,\n",
    "                                      )\n",
    "\n",
    "  # Compute Gradient of Geopotential\n",
    "  DGBalanceLawDiscretizations.grad_auxiliary_state!(spatialdiscretization, _a_ϕ,\n",
    "                                                    (_a_ϕx, _a_ϕy, _a_ϕz))\n",
    "\n",
    "  spatialdiscretization\n",
    "end"
   ],
   "metadata": {},
   "execution_count": 16
  },
  {
   "outputs": [],
   "cell_type": "markdown",
   "source": [
    "### Initializing and run the DG method\n",
    "Note that the final time and grid size are small so that CI and docs\n",
    "generation happens in a reasonable amount of time. Running the simulation to a\n",
    "final time of `33` hours allows the wave to propagate all the way around the\n",
    "sphere and back. Increasing the numeber of horizontal elements to `~30` is\n",
    "required for stable long time simulation."
   ],
   "metadata": {}
  },
  {
   "outputs": [
    {
     "name": "stdout",
     "output_type": "stream",
     "text": [
      "[ Info: Done writing VTK: acoustic_wave_step0000\n",
      "┌ Info: Update\n",
      "│ simtime = 0.0000000000000000e+00\n",
      "│ runtime = 00:00:00\n",
      "└ norm(Q) = 9.0537792182613277e+09\n"
     ]
    },
    {
     "output_type": "execute_result",
     "data": {
      "text/plain": "1.15209216737339"
     },
     "metadata": {},
     "execution_count": 17
    }
   ],
   "cell_type": "code",
   "source": [
    "let\n",
    "  mpicomm = MPI.COMM_WORLD\n",
    "  mpi_logger = ConsoleLogger(MPI.Comm_rank(mpicomm) == 0 ? stderr : devnull)\n",
    "\n",
    "  # parameters for defining the cubed sphere.\n",
    "  Ne_vertical   = 4  # number of vertical elements (small for CI/docs reasons)\n",
    "  # Ne_vertical   = 30 # Resolution required for stable long time result\n",
    "  # cubed sphere will use Ne_horizontal * Ne_horizontal horizontal elements in\n",
    "  # each of the 6 faces\n",
    "  Ne_horizontal = 4\n",
    "\n",
    "  polynomialorder = 5\n",
    "\n",
    "  # top of the domain and temperature from Tomita and Satoh (2004)\n",
    "  domain_height = 10e3\n",
    "\n",
    "  # isothermal temperature state\n",
    "  T0 = 300\n",
    "\n",
    "  # Floating point type to use in the calculation\n",
    "  DFloat = Float64\n",
    "\n",
    "  spatialdiscretization = setupDG(mpicomm, Ne_vertical, Ne_horizontal,\n",
    "                                  polynomialorder, DeviceArrayType,\n",
    "                                  domain_height, T0, DFloat)\n",
    "\n",
    "  Q = MPIStateArray(spatialdiscretization,\n",
    "                    (x...) -> initialcondition!(domain_height, x...))\n",
    "\n",
    "  # Since we are using explicit time stepping the acoustic wave speed will\n",
    "  # dominate our CFL restriction along with the vertical element size\n",
    "  element_size = (domain_height / Ne_vertical)\n",
    "  acoustic_speed = soundspeed_air(DFloat(T0))\n",
    "  dt = element_size / acoustic_speed / polynomialorder^2\n",
    "\n",
    "  # Adjust the time step so we exactly hit 1 hour for VTK output\n",
    "  dt = 60 * 60 / ceil(60 * 60 / dt)\n",
    "\n",
    "  lsrk = LSRK54CarpenterKennedy(spatialdiscretization, Q; dt = dt, t0 = 0)\n",
    "\n",
    "  # Uncomment line below to extend simulation time and output less frequently\n",
    "  #=\n",
    "  finaltime = 33 * 60 * 60\n",
    "  =#\n",
    "  finaltime = 4 * dt # short run just to get docs generated\n",
    "\n",
    "  outputtime = 60 * 60\n",
    "\n",
    "  # We will use this array for storing the pressure to write out to VTK\n",
    "  δP = MPIStateArray(spatialdiscretization; nstate = 1)\n",
    "\n",
    "  # Define a convenience function for VTK output\n",
    "  mkpath(VTKDIR)\n",
    "  function do_output(vtk_step)\n",
    "    # name of the file that this MPI rank will write\n",
    "    filename = @sprintf(\"%s/acoustic_wave_mpirank%04d_step%04d\",\n",
    "                        VTKDIR, MPI.Comm_rank(mpicomm), vtk_step)\n",
    "\n",
    "    # fill the `δP` array with the pressure perturbation\n",
    "    DGBalanceLawDiscretizations.dof_iteration!(compute_δP!, δP,\n",
    "                                               spatialdiscretization, Q)\n",
    "\n",
    "    # write the vtk file for this MPI rank\n",
    "    writevtk(filename, Q, spatialdiscretization, _statenames, δP, (\"δP\",))\n",
    "\n",
    "    # Generate the pvtu file for these vtk files\n",
    "    if MPI.Comm_rank(mpicomm) == 0\n",
    "      # name of the pvtu file\n",
    "      pvtuprefix = @sprintf(\"acoustic_wave_step%04d\", vtk_step)\n",
    "\n",
    "      # name of each of the ranks vtk files\n",
    "      prefixes = ntuple(i->\n",
    "                        @sprintf(\"%s/acoustic_wave_mpirank%04d_step%04d\",\n",
    "                                 VTKDIR, i-1, vtk_step),\n",
    "                        MPI.Comm_size(mpicomm))\n",
    "\n",
    "      # Write out the pvtu file\n",
    "      writepvtu(pvtuprefix, prefixes, (_statenames..., \"δP\",))\n",
    "\n",
    "      # write that we have written the file\n",
    "      with_logger(mpi_logger) do\n",
    "        @info @sprintf(\"Done writing VTK: %s\", pvtuprefix)\n",
    "      end\n",
    "    end\n",
    "  end\n",
    "\n",
    "  # Setup callback for writing VTK every hour of simulation time and dump\n",
    "  #initial file\n",
    "  vtk_step = 0\n",
    "  do_output(vtk_step)\n",
    "  cb_vtk = GenericCallbacks.EveryXSimulationSteps(floor(outputtime / dt)) do\n",
    "    vtk_step += 1\n",
    "    do_output(vtk_step)\n",
    "    nothing\n",
    "  end\n",
    "\n",
    "  # Setup a callback to display simulation runtime information\n",
    "  starttime = Ref(now())\n",
    "  cb_info = GenericCallbacks.EveryXWallTimeSeconds(60, mpicomm) do (init=false)\n",
    "    if init\n",
    "      starttime[] = now()\n",
    "    end\n",
    "    with_logger(mpi_logger) do\n",
    "      @info @sprintf(\"\"\"Update\n",
    "                     simtime = %.16e\n",
    "                     runtime = %s\n",
    "                     norm(Q) = %.16e\"\"\", ODESolvers.gettime(lsrk),\n",
    "                     Dates.format(convert(Dates.DateTime,\n",
    "                                          Dates.now()-starttime[]),\n",
    "                                  Dates.dateformat\"HH:MM:SS\"),\n",
    "                     norm(Q))\n",
    "    end\n",
    "  end\n",
    "\n",
    "  solve!(Q, lsrk; timeend = finaltime, callbacks = (cb_vtk, cb_info))\n",
    "\n",
    "end"
   ],
   "metadata": {},
   "execution_count": 17
  },
  {
   "outputs": [],
   "cell_type": "markdown",
   "source": [
    "### Finalizing MPI (if necessary)"
   ],
   "metadata": {}
  },
  {
   "outputs": [
    {
     "output_type": "execute_result",
     "data": {
      "text/plain": "false"
     },
     "metadata": {},
     "execution_count": 18
    }
   ],
   "cell_type": "code",
   "source": [
    "Sys.iswindows() || MPI.finalize_atexit()\n",
    "Sys.iswindows() && !isinteractive() && MPI.Finalize()"
   ],
   "metadata": {},
   "execution_count": 18
  },
  {
   "outputs": [],
   "cell_type": "markdown",
   "source": [
    "*This notebook was generated using [Literate.jl](https://github.com/fredrikekre/Literate.jl).*"
   ],
   "metadata": {}
  }
 ],
 "nbformat_minor": 3,
 "metadata": {
  "language_info": {
   "file_extension": ".jl",
   "mimetype": "application/julia",
   "name": "julia",
   "version": "1.0.4"
  },
  "kernelspec": {
   "name": "julia-1.0",
   "display_name": "Julia 1.0.4",
   "language": "julia"
  }
 },
 "nbformat": 4
}
